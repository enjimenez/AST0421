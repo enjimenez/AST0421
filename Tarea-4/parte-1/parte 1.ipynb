{
 "cells": [
  {
   "cell_type": "code",
   "execution_count": 1,
   "metadata": {
    "collapsed": false,
    "scrolled": true
   },
   "outputs": [
    {
     "name": "stderr",
     "output_type": "stream",
     "text": [
      "/usr/local/lib/python2.7/dist-packages/IPython/kernel/__init__.py:13: ShimWarning: The `IPython.kernel` package has been deprecated. You should import from ipykernel or jupyter_client instead.\n",
      "  \"You should import from ipykernel or jupyter_client instead.\", ShimWarning)\n"
     ]
    }
   ],
   "source": [
    "import ephem\n",
    "import numpy as np\n",
    "from astropy import units as u\n",
    "from astropy.coordinates import SkyCoord"
   ]
  },
  {
   "cell_type": "code",
   "execution_count": 2,
   "metadata": {
    "collapsed": true
   },
   "outputs": [],
   "source": [
    "gatech = ephem.Observer()\n",
    "gatech.lon, gatech.lat = '-70.64822', '-33.45694'\n",
    "gatech.date = '1984/5/30 16:22:56'"
   ]
  },
  {
   "cell_type": "code",
   "execution_count": 3,
   "metadata": {
    "collapsed": false
   },
   "outputs": [],
   "source": [
    "c = SkyCoord(ra=57.1205*u.degree,dec=21.7975*u.degree)\n",
    "obj1 = ephem.readdb(\"HD23765,f|S|F8,3:48:28.92,21:47:50.99,9.53,2000\")\n",
    "obj1.compute(gatech)"
   ]
  },
  {
   "cell_type": "code",
   "execution_count": 5,
   "metadata": {
    "collapsed": false
   },
   "outputs": [
    {
     "name": "stdout",
     "output_type": "stream",
     "text": [
      "1984/5/30 16:32:56 34:08:39.0\n",
      "1984/5/30 16:37:56 33:56:49.0\n",
      "1984/5/30 16:42:56 33:43:30.2\n",
      "1984/5/30 16:47:56 33:28:43.7\n",
      "1984/5/30 16:52:56 33:12:30.7\n",
      "1984/5/30 16:57:56 32:54:52.4\n",
      "1984/5/30 17:02:56 32:35:50.2\n",
      "1984/5/30 17:07:56 32:15:25.5\n"
     ]
    }
   ],
   "source": [
    "for i in range(8):\n",
    "    gatech.date += ephem.minute * 5.\n",
    "    obj1.compute(gatech)\n",
    "    print(\"%s %s\" % (gatech.date, obj1.alt))\n",
    "    "
   ]
  },
  {
   "cell_type": "code",
   "execution_count": null,
   "metadata": {
    "collapsed": true
   },
   "outputs": [],
   "source": []
  }
 ],
 "metadata": {
  "kernelspec": {
   "display_name": "Python 2",
   "language": "python",
   "name": "python2"
  },
  "language_info": {
   "codemirror_mode": {
    "name": "ipython",
    "version": 2
   },
   "file_extension": ".py",
   "mimetype": "text/x-python",
   "name": "python",
   "nbconvert_exporter": "python",
   "pygments_lexer": "ipython2",
   "version": "2.7.6"
  }
 },
 "nbformat": 4,
 "nbformat_minor": 0
}
